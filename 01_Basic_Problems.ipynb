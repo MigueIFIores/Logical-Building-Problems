{
 "cells": [
  {
   "cell_type": "markdown",
   "id": "6c92578d",
   "metadata": {},
   "source": [
    "### Creación de un entorno\n",
    "Procedimiento que permite aislar las dependencias de cada proyecto, evitando conflictos entre diferentes versiones de librerías y facilitando la replicabilidad.\n",
    "\n",
    "1. conda env list: sirve para ver los entornos disponibles\n",
    "2. conda install nb_conda_kernels, instalar librería que facilita usar kernels dentro del entorno base\n",
    "3. conda create --name 'NombreDelEntorno'\n",
    "4. conda activate 'NombreDelEntorno'\n",
    "5. conda install ipykernel"
   ]
  },
  {
   "cell_type": "markdown",
   "id": "b754445c",
   "metadata": {},
   "source": [
    "#### **Ejercicio 1: Check Even or Odd**\n",
    "Given a number n, check wheter it is even or odd. Return **true** for even and **false** for odd."
   ]
  },
  {
   "cell_type": "markdown",
   "id": "4049957c",
   "metadata": {},
   "source": [
    "**Input**: n = 15\n",
    "\n",
    "**Output**: false\n",
    "**Explanation**: 15 % 2 = 1, so 15 is odd .\n",
    "\n",
    "**Input**: n = 44\n",
    "**Output**: true\n",
    "**Explanation**: 44 % 2 = 0, so 44 is even."
   ]
  },
  {
   "cell_type": "code",
   "execution_count": 86,
   "id": "e7bcbbb2",
   "metadata": {},
   "outputs": [
    {
     "name": "stdout",
     "output_type": "stream",
     "text": [
      "True\n"
     ]
    }
   ],
   "source": [
    "def even_odd(n):\n",
    "    # CASOS PARA EVADIR PROBLEMAS DE INPUT\n",
    "\n",
    "    # Función isinstance(): verifica que el objeto perteneza a una clase dada\n",
    "    if not isinstance(n, int):\n",
    "        print('Es necesario un valor entero')\n",
    "        # Con este return deja de ejecutar la función\n",
    "        return \n",
    "        # Con esto comprobamos que n sea un enterno, si no lo es, muestra el mensaje y sale de la función (return)\n",
    "    \n",
    "    if n <= 0:\n",
    "        print('Es necesario un valor mayor que cero')\n",
    "        # Con este return deja de ejecutar la función\n",
    "        return\n",
    "\n",
    "    # Si paso las dos condiciones anteriores:\n",
    "\n",
    "    if n % 2 == 0:\n",
    "        return True\n",
    "        # % = Devuelve el resto de la división, cuantas veces cabe\n",
    "    else:\n",
    "        return False\n",
    "\n",
    "if __name__ == '__main__':\n",
    "    n = 2\n",
    "\n",
    "    # En este caso se igualo la función a una variable para evitar que se imprima el resultante\n",
    "    resultado = even_odd(n)\n",
    "\n",
    "    if resultado is True:\n",
    "        print('True')\n",
    "    elif resultado is False:\n",
    "        print('False')"
   ]
  },
  {
   "cell_type": "markdown",
   "id": "673e5c74",
   "metadata": {},
   "source": [
    "#### **Ejercicio 2: Program for multiplication table**\n",
    "\n",
    "Given a number **n**, we need to print its table"
   ]
  },
  {
   "cell_type": "markdown",
   "id": "de7f6e0b",
   "metadata": {},
   "source": [
    "**Input**:  5\n",
    "\n",
    "**Output**: \n",
    "\n",
    "5 * 1 = 5\n",
    "\n",
    "5 * 2 = 10\n",
    "\n",
    "5 * 3 = 15\n",
    "\n",
    "5 * 4 = 20\n",
    "\n",
    "5 * 5 = 25\n",
    "\n",
    "5 * 6 = 30\n",
    "\n",
    "5 * 7 = 35\n",
    "\n",
    "5 * 8 = 40\n",
    "\n",
    "5 * 9 = 45\n",
    "\n",
    "5 * 10 = 50"
   ]
  },
  {
   "cell_type": "code",
   "execution_count": null,
   "id": "44e82afc",
   "metadata": {},
   "outputs": [
    {
     "name": "stdout",
     "output_type": "stream",
     "text": [
      "5 * 1 = 5\n",
      "5 * 2 = 10\n",
      "5 * 3 = 15\n",
      "5 * 4 = 20\n",
      "5 * 5 = 25\n",
      "5 * 6 = 30\n",
      "5 * 7 = 35\n",
      "5 * 8 = 40\n",
      "5 * 9 = 45\n",
      "5 * 10 = 50\n"
     ]
    }
   ],
   "source": [
    "def tabla_multiplicacion(n):\n",
    "    # EVITAR CASOS ERROR\n",
    "    if not isinstance(n, int):\n",
    "        print('Es necesario un número entero')\n",
    "        # Con este return deja de ejecutar la función\n",
    "        return\n",
    "    \n",
    "    if n <= 0:\n",
    "        print('Es necesario un valor mayor que cero')\n",
    "        # Con este return deja de ejecutar la función\n",
    "        return\n",
    "    \n",
    "    # Si paso los dos casos anteriores\n",
    "    for valor in range (1,11):\n",
    "        resultante = n * valor\n",
    "        print(f'{n} * {valor} = {resultante}')\n",
    "\n",
    "if __name__ == '__main__':\n",
    "    n = 5\n",
    "    tabla_multiplicacion(n)"
   ]
  },
  {
   "cell_type": "markdown",
   "id": "6d3647f1",
   "metadata": {},
   "source": [
    "#### **Caso más complejo**\n",
    "\n",
    "Give i as addittional parameter with inital value as 1, then print n * i and then recursively call for i + 1, to determine the bigest value you wanna have in the table. "
   ]
  },
  {
   "cell_type": "code",
   "execution_count": null,
   "id": "41328a92",
   "metadata": {},
   "outputs": [
    {
     "name": "stdout",
     "output_type": "stream",
     "text": [
      "5 * 1 = 5\n",
      "5 * 2 = 10\n",
      "5 * 3 = 15\n",
      "5 * 4 = 20\n",
      "5 * 5 = 25\n",
      "5 * 6 = 30\n",
      "5 * 7 = 35\n",
      "5 * 8 = 40\n",
      "5 * 9 = 45\n",
      "5 * 10 = 50\n"
     ]
    }
   ],
   "source": [
    "valor_maximo = 11\n",
    "def tabla_multiplicacion_2(n, i = 1):\n",
    "    \n",
    "    if i == valor_maximo:\n",
    "        # Con esto paras la función\n",
    "        return\n",
    "    \n",
    "    # Con este print generas individualmente cada valor\n",
    "    print(f'{n} * {i} = {n*i}')\n",
    "\n",
    "    # Después le sumas uno \n",
    "    i += 1\n",
    "\n",
    "    # Aplicas a todo\n",
    "    tabla_multiplicacion_2(n,i)\n",
    "\n",
    "if __name__ == '__main__':\n",
    "    n = 5\n",
    "    tabla_multiplicacion_2(n)"
   ]
  },
  {
   "cell_type": "markdown",
   "id": "7dde5919",
   "metadata": {},
   "source": [
    "#### **Ejercicio 3: Program for sum of n natural numbers**\n",
    "\n",
    "Given a positive integer **n**, find the **sum** of the first **n** natural numbers."
   ]
  },
  {
   "cell_type": "markdown",
   "id": "5902bdb2",
   "metadata": {},
   "source": [
    "**Input**: n = 3\n",
    "\n",
    "**Output**: 6\n",
    "\n",
    "**Explanation**: 1 + 2 + 3 = 6\n",
    "\n",
    "\n",
    "**Input**: n = 5\n",
    "\n",
    "**Output**: 15 \n",
    "\n",
    "**Explanation**:  1 + 2 + 3 + 4 + 5 = 15"
   ]
  },
  {
   "cell_type": "code",
   "execution_count": 40,
   "id": "ed37d697",
   "metadata": {},
   "outputs": [
    {
     "name": "stdout",
     "output_type": "stream",
     "text": [
      "6\n"
     ]
    }
   ],
   "source": [
    "def suma_natural(n):\n",
    "    # EVITAR CASOS\n",
    "    if not isinstance(n, int):\n",
    "        print('Es necesario un valor entero')\n",
    "        # Con esto paras la función\n",
    "        return\n",
    "    if n <= 0:\n",
    "        print('Es necesario un valor positivo')\n",
    "        # Con esto paras la función\n",
    "        return\n",
    "    if n == 1:\n",
    "        return 1\n",
    "    \n",
    "    # Una vez pasado los dos anteriores casos\n",
    "    sum = 0\n",
    "    x = 1\n",
    "\n",
    "    while x <= n:\n",
    "        sum += x\n",
    "        x += 1\n",
    "    return sum\n",
    "\n",
    "if __name__ == '__main__':\n",
    "    n = 3\n",
    "    resultado = suma_natural(n)\n",
    "\n",
    "    if resultado is not None:\n",
    "        print(resultado)"
   ]
  },
  {
   "cell_type": "markdown",
   "id": "e70dfbd0",
   "metadata": {},
   "source": [
    "#### **Recomedación**\n",
    "No situar la llamada de la función unicamente, por que si no no brinda ningun resultado"
   ]
  },
  {
   "cell_type": "code",
   "execution_count": 61,
   "id": "7b1a7e64",
   "metadata": {},
   "outputs": [],
   "source": [
    "def suma_natural(n):\n",
    "    # EVITAR CASOS\n",
    "    if not isinstance(n, int):\n",
    "        print('Es necesario un valor entero')\n",
    "        # Con esto paras la función\n",
    "        return\n",
    "    if n <= 0:\n",
    "        print('Es necesario un valor positivo')\n",
    "        # Con esto paras la función\n",
    "        return\n",
    "    if n == 1:\n",
    "        return 1\n",
    "    \n",
    "    # Una vez pasado los dos anteriores casos\n",
    "    sum = 0\n",
    "    x = 1\n",
    "\n",
    "    while x <= n:\n",
    "        sum += x\n",
    "        x += 1\n",
    "    return sum\n",
    "\n",
    "if __name__ == '__main__':\n",
    "    n = 3\n",
    "    suma_natural(n)"
   ]
  },
  {
   "cell_type": "markdown",
   "id": "2c1820cf",
   "metadata": {},
   "source": [
    "Ahora imaginemos que te dan un valor ya sea negativo o decimal, y como no da ningun valor le ponemos print a la función"
   ]
  },
  {
   "cell_type": "code",
   "execution_count": 66,
   "id": "ecc551c5",
   "metadata": {},
   "outputs": [
    {
     "name": "stdout",
     "output_type": "stream",
     "text": [
      "Es necesario un valor positivo\n",
      "None\n"
     ]
    }
   ],
   "source": [
    "def suma_natural(n):\n",
    "    # EVITAR CASOS\n",
    "    if not isinstance(n, int):\n",
    "        print('Es necesario un valor entero')\n",
    "        # Con esto paras la función\n",
    "        return\n",
    "    if n <= 0:\n",
    "        print('Es necesario un valor positivo')\n",
    "        # Con esto paras la función\n",
    "        return\n",
    "    if n == 1:\n",
    "        return 1\n",
    "    \n",
    "    # Una vez pasado los dos anteriores casos\n",
    "    sum = 0\n",
    "    x = 1\n",
    "\n",
    "    while x <= n:\n",
    "        sum += x\n",
    "        x += 1\n",
    "    return sum\n",
    "\n",
    "if __name__ == '__main__':\n",
    "    n = -1\n",
    "    print(suma_natural(n))"
   ]
  },
  {
   "cell_type": "markdown",
   "id": "0cbefbdf",
   "metadata": {},
   "source": [
    "Con la finalidad de evitar que te de un None, se hace lo siguiente"
   ]
  },
  {
   "cell_type": "code",
   "execution_count": 69,
   "id": "9fbed598",
   "metadata": {},
   "outputs": [
    {
     "name": "stdout",
     "output_type": "stream",
     "text": [
      "6\n"
     ]
    }
   ],
   "source": [
    "def suma_natural(n):\n",
    "    # EVITAR CASOS\n",
    "    if not isinstance(n, int):\n",
    "        print('Es necesario un valor entero')\n",
    "        # Con esto paras la función\n",
    "        return\n",
    "    if n <= 0:\n",
    "        print('Es necesario un valor positivo')\n",
    "        # Con esto paras la función\n",
    "        return\n",
    "    if n == 1:\n",
    "        return 1\n",
    "    \n",
    "    # Una vez pasado los dos anteriores casos\n",
    "    sum = 0\n",
    "    x = 1\n",
    "\n",
    "    while x <= n:\n",
    "        sum += x\n",
    "        x += 1\n",
    "    return sum\n",
    "\n",
    "if __name__ == '__main__':\n",
    "    n = 3\n",
    "    resultado = suma_natural(n)\n",
    "    if resultado is not None:\n",
    "        print(resultado)"
   ]
  },
  {
   "cell_type": "markdown",
   "id": "1cf97a10",
   "metadata": {},
   "source": [
    "### **Observación**\n",
    "\n",
    "La fórmula para determinar la suma de los primeros n numeros naturales es \n",
    "\n",
    "(n * n+1) / 2"
   ]
  },
  {
   "cell_type": "markdown",
   "id": "37e84ab2",
   "metadata": {},
   "source": [
    "#### **Ejercicio 4: Program for Sum of squares of first n natural numbers**\n",
    "\n",
    "Given a positive integer n, we have to find the sum of squares of first n natural numbers. "
   ]
  },
  {
   "cell_type": "markdown",
   "id": "ec8766b6",
   "metadata": {},
   "source": [
    "**Input** : n = 2\n",
    "\n",
    "**Output**: 5\n",
    "\n",
    "**Explanation**: 1^2+2^2 = 5\n",
    "\n",
    "\n",
    "**Input**: n = 8\n",
    "\n",
    "**Output**: 204\n",
    "\n",
    "**Explanation**:  1^2 + 2^2 + 3^2 + 4^2 + 5^2 + 6^2 + 7^2 + 8^2 = 204 "
   ]
  },
  {
   "cell_type": "code",
   "execution_count": 55,
   "id": "50d661dc",
   "metadata": {},
   "outputs": [
    {
     "name": "stdout",
     "output_type": "stream",
     "text": [
      "204\n"
     ]
    }
   ],
   "source": [
    "def ejercicio_4(n, valor_exponente):\n",
    "    # EVITAR CASOS\n",
    "    if not isinstance(n, int):\n",
    "        print('Es necesario un valor entero')\n",
    "        # Con esto paras la función\n",
    "        return\n",
    "    if n <= 0:\n",
    "        print('Es necesario un valor positivo')\n",
    "        # Con esto paras la función\n",
    "        return\n",
    "    \n",
    "    suma = 0\n",
    "    x = 1\n",
    "\n",
    "    while x <= n:\n",
    "        suma += x**valor_exponente\n",
    "        x += 1\n",
    "    return suma\n",
    "\n",
    "if __name__ == '__main__':\n",
    "    n = 8\n",
    "    resultado = ejercicio_4(n, 2)\n",
    "\n",
    "    if resultado is not None:\n",
    "        print(resultado)"
   ]
  },
  {
   "cell_type": "markdown",
   "id": "2a7b575d",
   "metadata": {},
   "source": [
    "#### **Simplificación**\n"
   ]
  },
  {
   "cell_type": "code",
   "execution_count": 60,
   "id": "c69744d3",
   "metadata": {},
   "outputs": [
    {
     "name": "stdout",
     "output_type": "stream",
     "text": [
      "204\n"
     ]
    }
   ],
   "source": [
    "def ejercicio_4_2(n):\n",
    "    return sum([valor ** 2 for valor in range(1, n+1)])\n",
    "\n",
    "    # CONSTRUCCIÓN DE LO ANTERIOR\n",
    "    \n",
    "    ## En que rango lo quieres, de 1 a n+1\n",
    "    ### range(1, n+1)\n",
    "\n",
    "    ## ¿ Que quieres obtener de ahí? Cada valor\n",
    "    ### for valor in range(1, n+1)\n",
    "\n",
    "    ## ¿Con ese valor que es lo que buscas hacer? Elevarlo al cuadrado\n",
    "    ### valor ** 2 for valor in range(1, n+1)\n",
    "\n",
    "    ## ¿Que es lo que buscas obtener? La suma de los valores cuadrados en rango establecido\n",
    "    ### sum([valor ** 2 for valor in range(1, n+1)])\n",
    "\n",
    "if __name__ == '__main__':\n",
    "    n = 8\n",
    "    print(ejercicio_4_2(n))"
   ]
  },
  {
   "cell_type": "markdown",
   "id": "aa96bb83",
   "metadata": {},
   "source": [
    "#### **Ejercicio 5: Swap Two Numbers**\n",
    "Given two numbers **a** and **b**, the task is to swap them."
   ]
  },
  {
   "cell_type": "markdown",
   "id": "61f008c3",
   "metadata": {},
   "source": [
    "**Input**: a = 2, b = 3\n",
    "\n",
    "**Output**: a = 3, b = 2\n",
    "\n",
    "**Input**: a = 20, b = 0\n",
    "\n",
    "**Output**: a = 0, b = 20\n",
    "\n",
    "**Input**: a = 10, b = 10\n",
    "\n",
    "**Output**: a = 10, b = 10 "
   ]
  },
  {
   "cell_type": "code",
   "execution_count": 76,
   "id": "2d4dc19b",
   "metadata": {},
   "outputs": [
    {
     "name": "stdout",
     "output_type": "stream",
     "text": [
      "a = 10, b = 2\n"
     ]
    }
   ],
   "source": [
    "def swap(a,b):\n",
    "    valor_cuidado_a = a\n",
    "    a = b\n",
    "    b = valor_cuidado_a\n",
    "    print(f'a = {a}, b = {b}')\n",
    "\n",
    "swap(2,10)"
   ]
  },
  {
   "cell_type": "markdown",
   "id": "88096674",
   "metadata": {},
   "source": [
    "Sin ocupar un intermedio"
   ]
  },
  {
   "cell_type": "code",
   "execution_count": 77,
   "id": "2f37381a",
   "metadata": {},
   "outputs": [
    {
     "name": "stdout",
     "output_type": "stream",
     "text": [
      " a = 2, b = 3\n",
      " a = 3, b = 2\n"
     ]
    }
   ],
   "source": [
    "if __name__ == '__main__':\n",
    "    a = 2\n",
    "    b = 3\n",
    "    print(f' a = {a}, b = {b}')\n",
    "    # Tuple unpacking\n",
    "    a, b = b, a\n",
    "    print(f' a = {a}, b = {b}')"
   ]
  },
  {
   "cell_type": "markdown",
   "id": "e542a69e",
   "metadata": {},
   "source": [
    "PENDIENTE"
   ]
  },
  {
   "cell_type": "markdown",
   "id": "69d5001d",
   "metadata": {},
   "source": [
    "#### **Ejercicio 6: Find Closest to n and Divisible by m**\n",
    "\n",
    "Given two integers n and m (m != 0). Find the number closest to n and divisible by m. If there is more than one such number, then output the one having maximum absolute value."
   ]
  },
  {
   "cell_type": "markdown",
   "id": "9f7b71cf",
   "metadata": {},
   "source": [
    "**Input**: n = 13, m = 4\n",
    "\n",
    "**Output**: 12\n",
    "\n",
    "**Explanation**: 12 is the closest to 13, divisible by 4.\n",
    "\n",
    "**Input**: n = -15, m = 6\n",
    "\n",
    "**Output**: -18\n",
    "\n",
    "**Explanation**: Both -12 and -18 are closest to -15, but -18 has the maximum absolute value."
   ]
  },
  {
   "cell_type": "code",
   "execution_count": 142,
   "id": "db8fe7ad",
   "metadata": {},
   "outputs": [
    {
     "name": "stdout",
     "output_type": "stream",
     "text": [
      "-18\n"
     ]
    }
   ],
   "source": [
    "def ejercicio6(n, m):\n",
    "    # EVITAR CASOS\n",
    "    if not isinstance(n, int) or not isinstance(m, int):\n",
    "        print('Es necesario un número entero en ambos valores')\n",
    "        return\n",
    "    if m == 0:\n",
    "        print('El valor de m tiene que ser diferente de cero')\n",
    "        return\n",
    "    \n",
    "    # Calcular múltiplo anterior y posterior\n",
    "    menor_multiplo = (n // m) * m\n",
    "    mayor_multiplo = menor_multiplo + m\n",
    "\n",
    "    dist_menor = abs(n - menor_multiplo)\n",
    "    dist_mayor = abs(n - mayor_multiplo)\n",
    "\n",
    "    if dist_menor < dist_mayor:\n",
    "        return menor_multiplo\n",
    "    elif dist_mayor < dist_menor:\n",
    "        return mayor_multiplo\n",
    "    else:\n",
    "        return mayor_multiplo if abs(menor_multiplo) < abs(mayor_multiplo) else menor_multiplo\n",
    "\n",
    "if __name__ == '__main__':\n",
    "    n = -15\n",
    "    m = 6\n",
    "    print(ejercicio6(n,m))"
   ]
  },
  {
   "cell_type": "markdown",
   "id": "0f054a1e",
   "metadata": {},
   "source": [
    "#### **Ejercicio 7: The dice problem**\n",
    "You are given a cubic dice with 6 faces. All the individual faces have a number printed on them. The numbers are in the range of 1 to 6, like any ordinary dice. You will be provided with a face of this cube, your task is to guess the number on the opposite face of the cube.\n",
    "\n"
   ]
  },
  {
   "cell_type": "markdown",
   "id": "86385bf3",
   "metadata": {},
   "source": [
    "**Input**: n = 2\n",
    "\n",
    "**Output**: 5\n",
    "\n",
    "**Explanation**: For dice facing number 5 opposite face will have the number 2.\n",
    "\n",
    "**Input**: n = 6\n",
    "\n",
    "**Output**: 1\n",
    "\n",
    "**Explanation**: For dice facing number 6 opposite face will have the number 1."
   ]
  },
  {
   "cell_type": "code",
   "execution_count": 85,
   "id": "fdd4d834",
   "metadata": {},
   "outputs": [
    {
     "name": "stdout",
     "output_type": "stream",
     "text": [
      "1\n"
     ]
    }
   ],
   "source": [
    "def cara_cubo(n):\n",
    "    if n == 1:\n",
    "        return 6\n",
    "    elif n == 2:\n",
    "        return 5\n",
    "    elif n == 3:\n",
    "        return 4\n",
    "    elif n == 4:\n",
    "        return 3\n",
    "    elif n == 5:\n",
    "        return 2\n",
    "    else: \n",
    "        return 1\n",
    "    \n",
    "if __name__ == '__main__':\n",
    "    n = 6\n",
    "    print(cara_cubo(n))"
   ]
  },
  {
   "cell_type": "markdown",
   "id": "20200b93",
   "metadata": {},
   "source": [
    "#### **Ejercicio 8: Nth term of AP from First Two Terms**\n",
    "Given two integers a1 and a2, the first and second terms of an Arithmetic Series respectively, the problem is to find the nth term of the series. "
   ]
  },
  {
   "cell_type": "markdown",
   "id": "94dbd081",
   "metadata": {},
   "source": [
    "**Input**: a1 = 2,  a2 = 3,  n = 4\n",
    "\n",
    "**Output**: 5\n",
    "\n",
    "**Explanation**: The series is 2, 3, 4, 5, 6, ....   , thus the 4th term is 5. \n",
    "\n",
    "**Input**: a1 = 1, a2 = 3, n = 10\n",
    "\n",
    "**Output**: 19\n",
    "\n",
    "**Explanation**:  The series is: 1, 3, 5, 7, 9, 11, 13, 15, 17, 19, 21..... Thus,10th term is 19"
   ]
  },
  {
   "cell_type": "code",
   "execution_count": 121,
   "id": "1b246043",
   "metadata": {},
   "outputs": [
    {
     "name": "stdout",
     "output_type": "stream",
     "text": [
      "5\n"
     ]
    }
   ],
   "source": [
    "def ejercicio8(a1, a2, n):\n",
    "    # EVITAR CASOS\n",
    "    if not isinstance(a1, int) or not isinstance(a2, int):\n",
    "        print('Los números dados tienen que ser enteros')\n",
    "        return\n",
    "    \n",
    "    if not isinstance(n, int):\n",
    "        print('El puesto de búsqueda tiene que ser entero')\n",
    "        return\n",
    "    \n",
    "    # Posteriormente de pasar filtros\n",
    "    if a1 > a2:\n",
    "        minuendo = a1\n",
    "        sustraendo = a2\n",
    "    else:\n",
    "        minuendo = a2\n",
    "        sustraendo = a1\n",
    "    \n",
    "    dif = minuendo - sustraendo\n",
    "    lista_valores = [a1, a2]\n",
    "\n",
    "    while len(lista_valores) <= n:\n",
    "        sig_valor = lista_valores[-1] + dif\n",
    "        lista_valores.append(sig_valor)\n",
    "    \n",
    "    return lista_valores[n-1]\n",
    "\n",
    "if __name__ == '__main__':\n",
    "    a1 = 2\n",
    "    a2 = 3\n",
    "    n = 4\n",
    "    resultado = ejercicio8(a1,a2,n)\n",
    "    if resultado is not None:\n",
    "        print(resultado)"
   ]
  }
 ],
 "metadata": {
  "kernelspec": {
   "display_name": "Env_EP",
   "language": "python",
   "name": "python3"
  },
  "language_info": {
   "codemirror_mode": {
    "name": "ipython",
    "version": 3
   },
   "file_extension": ".py",
   "mimetype": "text/x-python",
   "name": "python",
   "nbconvert_exporter": "python",
   "pygments_lexer": "ipython3",
   "version": "3.13.5"
  }
 },
 "nbformat": 4,
 "nbformat_minor": 5
}
